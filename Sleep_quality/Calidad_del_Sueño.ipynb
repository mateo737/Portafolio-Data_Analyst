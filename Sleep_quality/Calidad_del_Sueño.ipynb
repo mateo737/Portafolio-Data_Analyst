{
 "cells": [
  {
   "cell_type": "markdown",
   "metadata": {
    "id": "dyOKN1jtOW3g"
   },
   "source": [
    "# Calidad de sueño y estilo de vida\n",
    "\n",
    "En este conjunto de datos sacado de [Kaggle](https://www.kaggle.com/datasets/uom190346a/sleep-health-and-lifestyle-dataset) cuenta con datos de la calidad de sueño de distintas personas, las columnas que se encuentran son las siguientes:\n",
    "\n",
    "- Person ID: Un identificador para cada individuo\n",
    "- Gener: El género de la persona (Hombre / Mujer)\n",
    "- Age: La edad de las personas en años\n",
    "- Occupation: - La ocupación o profesión de la persona\n",
    "- Sleep Duration (hours) - El número de horas que la persona duerme por día\n",
    "- Quality Sleep (scale: 1-10) - Una calificación subjetiva de la calidad del sueño\n",
    "- Physical Activity Level (minutes/day) - El número de minutos que la persona hace actividad física diariamente\n",
    "- Stress Level (scale: 1-10) - Una calificacoón subjetiva del nivel de estres experimentado por la persona\n",
    "- BMI Category - La categoría de Índice de Masa Corporal\n",
    "- Blood Pressure (systolic/diastolic) - La presión arterial de la persona, indicado como presión sistólica sobre presión diastólica\n",
    "- Heart Rate (bpm) - La frecuencia cardíaca en reposo en latidos por minuto\n",
    "- Dialy Steps - El número de pasos que la persona hace al día\n",
    "- Sleep Disorder - La presencia o ausensica de transtornos del sueño en la persona.\n",
    "\n",
    "## Preguntas que buscamos responder con este conjunto\n",
    "\n",
    "Las preguntas que buscaremos responder con este conjunto de datos son las siguientes:\n",
    "\n",
    "- ¿Quiénes tienen peor calidad del sueño, hombres o mujeres?\n",
    "\n",
    "- ¿Existe una relación entre la calidad del sueño de las personas y su profesión?\n",
    "\n",
    "- ¿La actividad física afecta al sueño?\n",
    "\n",
    "- ¿Qué profesión presenta la peor calidad de sueño?\n",
    "\n",
    "- ¿Cuál profesión tienen a las personas con el mayor nivel de estrés y el mayor índice de masa corporal?\n",
    "\n",
    "- ¿En qué rango de edades se encuentran la mayor cantidad de trastornos del sueño?\n",
    "\n",
    "- La cantidad de pasos al día, ¿afecta la calidad del sueño? ¿al índice de masa corporal?\n",
    "\n",
    "Con estas preguntas comenzaremos a hacer nuestro análisis buscando extraer la mayor cantidad de información que se pueda del conjunto.\n"
   ]
  },
  {
   "cell_type": "code",
   "execution_count": 1,
   "metadata": {
    "id": "MttrLhFkLVxh"
   },
   "outputs": [],
   "source": [
    "import pandas as pd"
   ]
  },
  {
   "cell_type": "code",
   "execution_count": 2,
   "metadata": {
    "colab": {
     "base_uri": "https://localhost:8080/",
     "height": 351
    },
    "id": "KRpPUJQ5Lmkm",
    "outputId": "5ffd445a-daf1-4bf4-f36e-42cd1a2cd508"
   },
   "outputs": [
    {
     "data": {
      "text/html": [
       "<div>\n",
       "<style scoped>\n",
       "    .dataframe tbody tr th:only-of-type {\n",
       "        vertical-align: middle;\n",
       "    }\n",
       "\n",
       "    .dataframe tbody tr th {\n",
       "        vertical-align: top;\n",
       "    }\n",
       "\n",
       "    .dataframe thead th {\n",
       "        text-align: right;\n",
       "    }\n",
       "</style>\n",
       "<table border=\"1\" class=\"dataframe\">\n",
       "  <thead>\n",
       "    <tr style=\"text-align: right;\">\n",
       "      <th></th>\n",
       "      <th>Gender</th>\n",
       "      <th>Age</th>\n",
       "      <th>Occupation</th>\n",
       "      <th>Sleep Duration</th>\n",
       "      <th>Quality of Sleep</th>\n",
       "      <th>Physical Activity Level</th>\n",
       "      <th>Stress Level</th>\n",
       "      <th>BMI Category</th>\n",
       "      <th>Blood Pressure</th>\n",
       "      <th>Heart Rate</th>\n",
       "      <th>Daily Steps</th>\n",
       "      <th>Sleep Disorder</th>\n",
       "    </tr>\n",
       "    <tr>\n",
       "      <th>Person ID</th>\n",
       "      <th></th>\n",
       "      <th></th>\n",
       "      <th></th>\n",
       "      <th></th>\n",
       "      <th></th>\n",
       "      <th></th>\n",
       "      <th></th>\n",
       "      <th></th>\n",
       "      <th></th>\n",
       "      <th></th>\n",
       "      <th></th>\n",
       "      <th></th>\n",
       "    </tr>\n",
       "  </thead>\n",
       "  <tbody>\n",
       "    <tr>\n",
       "      <th>1</th>\n",
       "      <td>Male</td>\n",
       "      <td>27</td>\n",
       "      <td>Software Engineer</td>\n",
       "      <td>6.1</td>\n",
       "      <td>6</td>\n",
       "      <td>42</td>\n",
       "      <td>6</td>\n",
       "      <td>Overweight</td>\n",
       "      <td>126/83</td>\n",
       "      <td>77</td>\n",
       "      <td>4200</td>\n",
       "      <td>None</td>\n",
       "    </tr>\n",
       "    <tr>\n",
       "      <th>2</th>\n",
       "      <td>Male</td>\n",
       "      <td>28</td>\n",
       "      <td>Doctor</td>\n",
       "      <td>6.2</td>\n",
       "      <td>6</td>\n",
       "      <td>60</td>\n",
       "      <td>8</td>\n",
       "      <td>Normal</td>\n",
       "      <td>125/80</td>\n",
       "      <td>75</td>\n",
       "      <td>10000</td>\n",
       "      <td>None</td>\n",
       "    </tr>\n",
       "    <tr>\n",
       "      <th>3</th>\n",
       "      <td>Male</td>\n",
       "      <td>28</td>\n",
       "      <td>Doctor</td>\n",
       "      <td>6.2</td>\n",
       "      <td>6</td>\n",
       "      <td>60</td>\n",
       "      <td>8</td>\n",
       "      <td>Normal</td>\n",
       "      <td>125/80</td>\n",
       "      <td>75</td>\n",
       "      <td>10000</td>\n",
       "      <td>None</td>\n",
       "    </tr>\n",
       "    <tr>\n",
       "      <th>4</th>\n",
       "      <td>Male</td>\n",
       "      <td>28</td>\n",
       "      <td>Sales Representative</td>\n",
       "      <td>5.9</td>\n",
       "      <td>4</td>\n",
       "      <td>30</td>\n",
       "      <td>8</td>\n",
       "      <td>Obese</td>\n",
       "      <td>140/90</td>\n",
       "      <td>85</td>\n",
       "      <td>3000</td>\n",
       "      <td>Sleep Apnea</td>\n",
       "    </tr>\n",
       "    <tr>\n",
       "      <th>5</th>\n",
       "      <td>Male</td>\n",
       "      <td>28</td>\n",
       "      <td>Sales Representative</td>\n",
       "      <td>5.9</td>\n",
       "      <td>4</td>\n",
       "      <td>30</td>\n",
       "      <td>8</td>\n",
       "      <td>Obese</td>\n",
       "      <td>140/90</td>\n",
       "      <td>85</td>\n",
       "      <td>3000</td>\n",
       "      <td>Sleep Apnea</td>\n",
       "    </tr>\n",
       "  </tbody>\n",
       "</table>\n",
       "</div>"
      ],
      "text/plain": [
       "          Gender  Age            Occupation  Sleep Duration  Quality of Sleep  \\\n",
       "Person ID                                                                       \n",
       "1           Male   27     Software Engineer             6.1                 6   \n",
       "2           Male   28                Doctor             6.2                 6   \n",
       "3           Male   28                Doctor             6.2                 6   \n",
       "4           Male   28  Sales Representative             5.9                 4   \n",
       "5           Male   28  Sales Representative             5.9                 4   \n",
       "\n",
       "           Physical Activity Level  Stress Level BMI Category Blood Pressure  \\\n",
       "Person ID                                                                      \n",
       "1                               42             6   Overweight         126/83   \n",
       "2                               60             8       Normal         125/80   \n",
       "3                               60             8       Normal         125/80   \n",
       "4                               30             8        Obese         140/90   \n",
       "5                               30             8        Obese         140/90   \n",
       "\n",
       "           Heart Rate  Daily Steps Sleep Disorder  \n",
       "Person ID                                          \n",
       "1                  77         4200           None  \n",
       "2                  75        10000           None  \n",
       "3                  75        10000           None  \n",
       "4                  85         3000    Sleep Apnea  \n",
       "5                  85         3000    Sleep Apnea  "
      ]
     },
     "execution_count": 2,
     "metadata": {},
     "output_type": "execute_result"
    }
   ],
   "source": [
    "# Cargamos el conjunto de datos\n",
    "data = pd.read_csv(\n",
    "      \"Sleep_health_and_lifestyle_dataset.csv\",\n",
    "      index_col=\"Person ID\"\n",
    "    )\n",
    "data.head()"
   ]
  },
  {
   "cell_type": "code",
   "execution_count": 3,
   "metadata": {
    "colab": {
     "base_uri": "https://localhost:8080/"
    },
    "id": "46S_czyha0lE",
    "outputId": "6b97a303-eb05-4776-f040-ade4b5183860"
   },
   "outputs": [
    {
     "name": "stdout",
     "output_type": "stream",
     "text": [
      "<class 'pandas.core.frame.DataFrame'>\n",
      "Int64Index: 374 entries, 1 to 374\n",
      "Data columns (total 12 columns):\n",
      " #   Column                   Non-Null Count  Dtype  \n",
      "---  ------                   --------------  -----  \n",
      " 0   Gender                   374 non-null    object \n",
      " 1   Age                      374 non-null    int64  \n",
      " 2   Occupation               374 non-null    object \n",
      " 3   Sleep Duration           374 non-null    float64\n",
      " 4   Quality of Sleep         374 non-null    int64  \n",
      " 5   Physical Activity Level  374 non-null    int64  \n",
      " 6   Stress Level             374 non-null    int64  \n",
      " 7   BMI Category             374 non-null    object \n",
      " 8   Blood Pressure           374 non-null    object \n",
      " 9   Heart Rate               374 non-null    int64  \n",
      " 10  Daily Steps              374 non-null    int64  \n",
      " 11  Sleep Disorder           374 non-null    object \n",
      "dtypes: float64(1), int64(6), object(5)\n",
      "memory usage: 38.0+ KB\n"
     ]
    }
   ],
   "source": [
    "# Información general del conjunto\n",
    "data.info()"
   ]
  },
  {
   "cell_type": "code",
   "execution_count": 4,
   "metadata": {
    "colab": {
     "base_uri": "https://localhost:8080/",
     "height": 300
    },
    "id": "U2U7n0vG2v6o",
    "outputId": "783ecbbd-f0ff-43c5-ccf0-065226c51b08"
   },
   "outputs": [
    {
     "data": {
      "text/html": [
       "<div>\n",
       "<style scoped>\n",
       "    .dataframe tbody tr th:only-of-type {\n",
       "        vertical-align: middle;\n",
       "    }\n",
       "\n",
       "    .dataframe tbody tr th {\n",
       "        vertical-align: top;\n",
       "    }\n",
       "\n",
       "    .dataframe thead th {\n",
       "        text-align: right;\n",
       "    }\n",
       "</style>\n",
       "<table border=\"1\" class=\"dataframe\">\n",
       "  <thead>\n",
       "    <tr style=\"text-align: right;\">\n",
       "      <th></th>\n",
       "      <th>Age</th>\n",
       "      <th>Sleep Duration</th>\n",
       "      <th>Quality of Sleep</th>\n",
       "      <th>Physical Activity Level</th>\n",
       "      <th>Stress Level</th>\n",
       "      <th>Heart Rate</th>\n",
       "      <th>Daily Steps</th>\n",
       "    </tr>\n",
       "  </thead>\n",
       "  <tbody>\n",
       "    <tr>\n",
       "      <th>count</th>\n",
       "      <td>374.000000</td>\n",
       "      <td>374.000000</td>\n",
       "      <td>374.000000</td>\n",
       "      <td>374.000000</td>\n",
       "      <td>374.000000</td>\n",
       "      <td>374.000000</td>\n",
       "      <td>374.000000</td>\n",
       "    </tr>\n",
       "    <tr>\n",
       "      <th>mean</th>\n",
       "      <td>42.184492</td>\n",
       "      <td>7.132086</td>\n",
       "      <td>7.312834</td>\n",
       "      <td>59.171123</td>\n",
       "      <td>5.385027</td>\n",
       "      <td>70.165775</td>\n",
       "      <td>6816.844920</td>\n",
       "    </tr>\n",
       "    <tr>\n",
       "      <th>std</th>\n",
       "      <td>8.673133</td>\n",
       "      <td>0.795657</td>\n",
       "      <td>1.196956</td>\n",
       "      <td>20.830804</td>\n",
       "      <td>1.774526</td>\n",
       "      <td>4.135676</td>\n",
       "      <td>1617.915679</td>\n",
       "    </tr>\n",
       "    <tr>\n",
       "      <th>min</th>\n",
       "      <td>27.000000</td>\n",
       "      <td>5.800000</td>\n",
       "      <td>4.000000</td>\n",
       "      <td>30.000000</td>\n",
       "      <td>3.000000</td>\n",
       "      <td>65.000000</td>\n",
       "      <td>3000.000000</td>\n",
       "    </tr>\n",
       "    <tr>\n",
       "      <th>25%</th>\n",
       "      <td>35.250000</td>\n",
       "      <td>6.400000</td>\n",
       "      <td>6.000000</td>\n",
       "      <td>45.000000</td>\n",
       "      <td>4.000000</td>\n",
       "      <td>68.000000</td>\n",
       "      <td>5600.000000</td>\n",
       "    </tr>\n",
       "    <tr>\n",
       "      <th>50%</th>\n",
       "      <td>43.000000</td>\n",
       "      <td>7.200000</td>\n",
       "      <td>7.000000</td>\n",
       "      <td>60.000000</td>\n",
       "      <td>5.000000</td>\n",
       "      <td>70.000000</td>\n",
       "      <td>7000.000000</td>\n",
       "    </tr>\n",
       "    <tr>\n",
       "      <th>75%</th>\n",
       "      <td>50.000000</td>\n",
       "      <td>7.800000</td>\n",
       "      <td>8.000000</td>\n",
       "      <td>75.000000</td>\n",
       "      <td>7.000000</td>\n",
       "      <td>72.000000</td>\n",
       "      <td>8000.000000</td>\n",
       "    </tr>\n",
       "    <tr>\n",
       "      <th>max</th>\n",
       "      <td>59.000000</td>\n",
       "      <td>8.500000</td>\n",
       "      <td>9.000000</td>\n",
       "      <td>90.000000</td>\n",
       "      <td>8.000000</td>\n",
       "      <td>86.000000</td>\n",
       "      <td>10000.000000</td>\n",
       "    </tr>\n",
       "  </tbody>\n",
       "</table>\n",
       "</div>"
      ],
      "text/plain": [
       "              Age  Sleep Duration  Quality of Sleep  Physical Activity Level  \\\n",
       "count  374.000000      374.000000        374.000000               374.000000   \n",
       "mean    42.184492        7.132086          7.312834                59.171123   \n",
       "std      8.673133        0.795657          1.196956                20.830804   \n",
       "min     27.000000        5.800000          4.000000                30.000000   \n",
       "25%     35.250000        6.400000          6.000000                45.000000   \n",
       "50%     43.000000        7.200000          7.000000                60.000000   \n",
       "75%     50.000000        7.800000          8.000000                75.000000   \n",
       "max     59.000000        8.500000          9.000000                90.000000   \n",
       "\n",
       "       Stress Level  Heart Rate   Daily Steps  \n",
       "count    374.000000  374.000000    374.000000  \n",
       "mean       5.385027   70.165775   6816.844920  \n",
       "std        1.774526    4.135676   1617.915679  \n",
       "min        3.000000   65.000000   3000.000000  \n",
       "25%        4.000000   68.000000   5600.000000  \n",
       "50%        5.000000   70.000000   7000.000000  \n",
       "75%        7.000000   72.000000   8000.000000  \n",
       "max        8.000000   86.000000  10000.000000  "
      ]
     },
     "execution_count": 4,
     "metadata": {},
     "output_type": "execute_result"
    }
   ],
   "source": [
    "# Descripción general de las variables numericas del conjunto\n",
    "data.describe()"
   ]
  },
  {
   "cell_type": "code",
   "execution_count": 5,
   "metadata": {
    "colab": {
     "base_uri": "https://localhost:8080/"
    },
    "id": "MObdLGrpJu6a",
    "outputId": "8bd3b48d-49ef-4c1b-fc29-87627d70e4b5"
   },
   "outputs": [
    {
     "name": "stderr",
     "output_type": "stream",
     "text": [
      "C:\\Users\\MATEO\\AppData\\Local\\Temp\\ipykernel_976\\412245029.py:1: FutureWarning: The default value of numeric_only in DataFrame.corr is deprecated. In a future version, it will default to False. Select only valid columns or specify the value of numeric_only to silence this warning.\n",
      "  data.corr().columns\n"
     ]
    },
    {
     "data": {
      "text/plain": [
       "Index(['Age', 'Sleep Duration', 'Quality of Sleep', 'Physical Activity Level',\n",
       "       'Stress Level', 'Heart Rate', 'Daily Steps'],\n",
       "      dtype='object')"
      ]
     },
     "execution_count": 5,
     "metadata": {},
     "output_type": "execute_result"
    }
   ],
   "source": [
    "data.corr().columns"
   ]
  },
  {
   "cell_type": "markdown",
   "metadata": {
    "id": "dlfqoJuLb2vR"
   },
   "source": [
    "### Análisis de las edades"
   ]
  },
  {
   "cell_type": "code",
   "execution_count": 6,
   "metadata": {
    "colab": {
     "base_uri": "https://localhost:8080/"
    },
    "id": "LhF6LfrjbeH9",
    "outputId": "811deab2-141e-46b2-df71-3c6a1bda6387"
   },
   "outputs": [
    {
     "data": {
      "text/plain": [
       "Male      189\n",
       "Female    185\n",
       "Name: Gender, dtype: int64"
      ]
     },
     "execution_count": 6,
     "metadata": {},
     "output_type": "execute_result"
    }
   ],
   "source": [
    "# Cantidad de hombres y mujeres en el conjunto\n",
    "data['Gender'].value_counts()"
   ]
  },
  {
   "cell_type": "code",
   "execution_count": 7,
   "metadata": {
    "colab": {
     "base_uri": "https://localhost:8080/"
    },
    "id": "VsHb5oJnbpA8",
    "outputId": "3d0e7220-0fbd-44bb-a0aa-7825b6f2e1fb"
   },
   "outputs": [
    {
     "data": {
      "text/plain": [
       "42.18449197860963"
      ]
     },
     "execution_count": 7,
     "metadata": {},
     "output_type": "execute_result"
    }
   ],
   "source": [
    "# Promedio de la edad\n",
    "data['Age'].mean()"
   ]
  },
  {
   "cell_type": "code",
   "execution_count": 8,
   "metadata": {
    "colab": {
     "base_uri": "https://localhost:8080/"
    },
    "id": "DCOmjhepbuWB",
    "outputId": "5353aa71-f1f1-4182-c976-e1033c4488a9"
   },
   "outputs": [
    {
     "data": {
      "text/plain": [
       "8.67313346554724"
      ]
     },
     "execution_count": 8,
     "metadata": {},
     "output_type": "execute_result"
    }
   ],
   "source": [
    "# Desviación estándar del conjunto\n",
    "data['Age'].std()"
   ]
  },
  {
   "cell_type": "code",
   "execution_count": 9,
   "metadata": {
    "colab": {
     "base_uri": "https://localhost:8080/"
    },
    "id": "Qs9KMRpKc6dn",
    "outputId": "8d180a0e-08b3-49b0-8687-8123415391b3"
   },
   "outputs": [
    {
     "data": {
      "text/plain": [
       "27"
      ]
     },
     "execution_count": 9,
     "metadata": {},
     "output_type": "execute_result"
    }
   ],
   "source": [
    "# Valor mínimo de las edades\n",
    "data['Age'].min()"
   ]
  },
  {
   "cell_type": "code",
   "execution_count": 10,
   "metadata": {
    "colab": {
     "base_uri": "https://localhost:8080/"
    },
    "id": "HuwBuegOc78W",
    "outputId": "ac561f44-9d26-44ec-8526-39a30be1a85d"
   },
   "outputs": [
    {
     "data": {
      "text/plain": [
       "59"
      ]
     },
     "execution_count": 10,
     "metadata": {},
     "output_type": "execute_result"
    }
   ],
   "source": [
    "# Valor máximo de las edades\n",
    "data['Age'].max()"
   ]
  },
  {
   "cell_type": "code",
   "execution_count": 11,
   "metadata": {
    "id": "fjO26rtQc4Te"
   },
   "outputs": [],
   "source": [
    "# Creamos una columna nueva para ordenar por adulto y adulto viejo\n",
    "data.loc[data['Age']<=40, 'Age_group'] = 'Adult'\n",
    "data.loc[data['Age']>=41, 'Age_group'] = 'Older Adult'"
   ]
  },
  {
   "cell_type": "code",
   "execution_count": 12,
   "metadata": {
    "colab": {
     "base_uri": "https://localhost:8080/"
    },
    "id": "VF14hgRlrCQV",
    "outputId": "ee51e83f-c334-42c7-d93d-f765eda3a651"
   },
   "outputs": [
    {
     "data": {
      "text/plain": [
       "Older Adult    209\n",
       "Adult          165\n",
       "Name: Age_group, dtype: int64"
      ]
     },
     "execution_count": 12,
     "metadata": {},
     "output_type": "execute_result"
    }
   ],
   "source": [
    "# Cantidad de adultos y adultos viejos del conjunto\n",
    "data['Age_group'].value_counts()"
   ]
  },
  {
   "cell_type": "code",
   "execution_count": 13,
   "metadata": {
    "colab": {
     "base_uri": "https://localhost:8080/",
     "height": 143
    },
    "id": "Jf2MD6GWiypG",
    "outputId": "b26fc09d-d942-49f7-930b-89abb51844b7"
   },
   "outputs": [
    {
     "data": {
      "text/html": [
       "<div>\n",
       "<style scoped>\n",
       "    .dataframe tbody tr th:only-of-type {\n",
       "        vertical-align: middle;\n",
       "    }\n",
       "\n",
       "    .dataframe tbody tr th {\n",
       "        vertical-align: top;\n",
       "    }\n",
       "\n",
       "    .dataframe thead th {\n",
       "        text-align: right;\n",
       "    }\n",
       "</style>\n",
       "<table border=\"1\" class=\"dataframe\">\n",
       "  <thead>\n",
       "    <tr style=\"text-align: right;\">\n",
       "      <th></th>\n",
       "      <th>mean</th>\n",
       "      <th>std</th>\n",
       "    </tr>\n",
       "    <tr>\n",
       "      <th>Gender</th>\n",
       "      <th></th>\n",
       "      <th></th>\n",
       "    </tr>\n",
       "  </thead>\n",
       "  <tbody>\n",
       "    <tr>\n",
       "      <th>Female</th>\n",
       "      <td>47.405405</td>\n",
       "      <td>8.093407</td>\n",
       "    </tr>\n",
       "    <tr>\n",
       "      <th>Male</th>\n",
       "      <td>37.074074</td>\n",
       "      <td>5.662006</td>\n",
       "    </tr>\n",
       "  </tbody>\n",
       "</table>\n",
       "</div>"
      ],
      "text/plain": [
       "             mean       std\n",
       "Gender                     \n",
       "Female  47.405405  8.093407\n",
       "Male    37.074074  5.662006"
      ]
     },
     "execution_count": 13,
     "metadata": {},
     "output_type": "execute_result"
    }
   ],
   "source": [
    "# Promedio y desviación estándar de las edades divididas entre hombres y mujeres\n",
    "data.groupby('Gender')['Age'].agg(['mean', 'std'])"
   ]
  },
  {
   "cell_type": "markdown",
   "metadata": {
    "id": "jfuYBLk2kVUX"
   },
   "source": [
    "## Análisis de las ocupaciones"
   ]
  },
  {
   "cell_type": "code",
   "execution_count": 14,
   "metadata": {
    "colab": {
     "base_uri": "https://localhost:8080/"
    },
    "id": "sN1bgGbNlLxB",
    "outputId": "f838147f-f028-45e9-c375-7cdf99cf0038"
   },
   "outputs": [
    {
     "data": {
      "text/plain": [
       "Occupation            Gender\n",
       "Accountant            Female    36\n",
       "                      Male       1\n",
       "Doctor                Male      69\n",
       "                      Female     2\n",
       "Engineer              Female    32\n",
       "                      Male      31\n",
       "Lawyer                Male      45\n",
       "                      Female     2\n",
       "Manager               Female     1\n",
       "Nurse                 Female    73\n",
       "Sales Representative  Male       2\n",
       "Salesperson           Male      32\n",
       "Scientist             Female     4\n",
       "Software Engineer     Male       4\n",
       "Teacher               Female    35\n",
       "                      Male       5\n",
       "Name: Gender, dtype: int64"
      ]
     },
     "execution_count": 14,
     "metadata": {},
     "output_type": "execute_result"
    }
   ],
   "source": [
    "# Cantidad de hombres y mujeres\n",
    "data.groupby(['Occupation'])['Gender'].value_counts()"
   ]
  },
  {
   "cell_type": "code",
   "execution_count": 15,
   "metadata": {
    "colab": {
     "base_uri": "https://localhost:8080/"
    },
    "id": "C3axKd57r9Y7",
    "outputId": "7cd4387c-7856-4336-f638-b6a0ddcee830"
   },
   "outputs": [
    {
     "name": "stdout",
     "output_type": "stream",
     "text": [
      "5.8\n",
      "8.5\n"
     ]
    }
   ],
   "source": [
    "# Duración mínima y máxima del sueño de las personas\n",
    "print(data['Sleep Duration'].min())\n",
    "print(data['Sleep Duration'].max())"
   ]
  },
  {
   "cell_type": "code",
   "execution_count": 16,
   "metadata": {
    "colab": {
     "base_uri": "https://localhost:8080/"
    },
    "id": "eI-7H68ovMTl",
    "outputId": "1244f538-37ff-4adf-e345-c125c3590679"
   },
   "outputs": [
    {
     "data": {
      "text/plain": [
       "Gender\n",
       "Female    7.229730\n",
       "Male      7.036508\n",
       "Name: Sleep Duration, dtype: float64"
      ]
     },
     "execution_count": 16,
     "metadata": {},
     "output_type": "execute_result"
    }
   ],
   "source": [
    "# Duración del sueño entre hombres y mujeres\n",
    "data.groupby(['Gender'])['Sleep Duration'].mean()"
   ]
  },
  {
   "cell_type": "code",
   "execution_count": 17,
   "metadata": {
    "colab": {
     "base_uri": "https://localhost:8080/"
    },
    "id": "cPnHr-arwuR2",
    "outputId": "e060943a-a6a9-42e1-8e38-96eba6c0c6a0"
   },
   "outputs": [
    {
     "data": {
      "text/plain": [
       "Gender\n",
       "Female    7.664865\n",
       "Male      6.968254\n",
       "Name: Quality of Sleep, dtype: float64"
      ]
     },
     "execution_count": 17,
     "metadata": {},
     "output_type": "execute_result"
    }
   ],
   "source": [
    "data.groupby('Gender')['Quality of Sleep'].mean()"
   ]
  },
  {
   "cell_type": "code",
   "execution_count": 18,
   "metadata": {
    "colab": {
     "base_uri": "https://localhost:8080/",
     "height": 426
    },
    "id": "TuCgpO33LqGM",
    "outputId": "0e84f57f-b132-4ec0-a7ab-b7ec4e9fb13b"
   },
   "outputs": [
    {
     "data": {
      "text/html": [
       "<div>\n",
       "<style scoped>\n",
       "    .dataframe tbody tr th:only-of-type {\n",
       "        vertical-align: middle;\n",
       "    }\n",
       "\n",
       "    .dataframe tbody tr th {\n",
       "        vertical-align: top;\n",
       "    }\n",
       "\n",
       "    .dataframe thead th {\n",
       "        text-align: right;\n",
       "    }\n",
       "</style>\n",
       "<table border=\"1\" class=\"dataframe\">\n",
       "  <thead>\n",
       "    <tr style=\"text-align: right;\">\n",
       "      <th></th>\n",
       "      <th>Quality of Sleep</th>\n",
       "      <th>Sleep Duration</th>\n",
       "    </tr>\n",
       "    <tr>\n",
       "      <th>Occupation</th>\n",
       "      <th></th>\n",
       "      <th></th>\n",
       "    </tr>\n",
       "  </thead>\n",
       "  <tbody>\n",
       "    <tr>\n",
       "      <th>Sales Representative</th>\n",
       "      <td>4.000000</td>\n",
       "      <td>5.900000</td>\n",
       "    </tr>\n",
       "    <tr>\n",
       "      <th>Scientist</th>\n",
       "      <td>5.000000</td>\n",
       "      <td>6.000000</td>\n",
       "    </tr>\n",
       "    <tr>\n",
       "      <th>Salesperson</th>\n",
       "      <td>6.000000</td>\n",
       "      <td>6.403125</td>\n",
       "    </tr>\n",
       "    <tr>\n",
       "      <th>Software Engineer</th>\n",
       "      <td>6.500000</td>\n",
       "      <td>6.750000</td>\n",
       "    </tr>\n",
       "    <tr>\n",
       "      <th>Doctor</th>\n",
       "      <td>6.647887</td>\n",
       "      <td>6.970423</td>\n",
       "    </tr>\n",
       "    <tr>\n",
       "      <th>Teacher</th>\n",
       "      <td>6.975000</td>\n",
       "      <td>6.690000</td>\n",
       "    </tr>\n",
       "    <tr>\n",
       "      <th>Manager</th>\n",
       "      <td>7.000000</td>\n",
       "      <td>6.900000</td>\n",
       "    </tr>\n",
       "    <tr>\n",
       "      <th>Nurse</th>\n",
       "      <td>7.369863</td>\n",
       "      <td>7.063014</td>\n",
       "    </tr>\n",
       "    <tr>\n",
       "      <th>Accountant</th>\n",
       "      <td>7.891892</td>\n",
       "      <td>7.113514</td>\n",
       "    </tr>\n",
       "    <tr>\n",
       "      <th>Lawyer</th>\n",
       "      <td>7.893617</td>\n",
       "      <td>7.410638</td>\n",
       "    </tr>\n",
       "    <tr>\n",
       "      <th>Engineer</th>\n",
       "      <td>8.412698</td>\n",
       "      <td>7.987302</td>\n",
       "    </tr>\n",
       "  </tbody>\n",
       "</table>\n",
       "</div>"
      ],
      "text/plain": [
       "                      Quality of Sleep  Sleep Duration\n",
       "Occupation                                            \n",
       "Sales Representative          4.000000        5.900000\n",
       "Scientist                     5.000000        6.000000\n",
       "Salesperson                   6.000000        6.403125\n",
       "Software Engineer             6.500000        6.750000\n",
       "Doctor                        6.647887        6.970423\n",
       "Teacher                       6.975000        6.690000\n",
       "Manager                       7.000000        6.900000\n",
       "Nurse                         7.369863        7.063014\n",
       "Accountant                    7.891892        7.113514\n",
       "Lawyer                        7.893617        7.410638\n",
       "Engineer                      8.412698        7.987302"
      ]
     },
     "execution_count": 18,
     "metadata": {},
     "output_type": "execute_result"
    }
   ],
   "source": [
    "# Promedio de la calidad y duración del sueño\n",
    "occ_qua=data.groupby('Occupation')[['Quality of Sleep', 'Sleep Duration']].mean()\n",
    "occ_qua.sort_values(by='Quality of Sleep')"
   ]
  },
  {
   "cell_type": "code",
   "execution_count": 19,
   "metadata": {
    "colab": {
     "base_uri": "https://localhost:8080/"
    },
    "id": "l0FJAyHNmwv6",
    "outputId": "29caac02-59be-4679-b693-abd1a410c74b"
   },
   "outputs": [
    {
     "data": {
      "text/plain": [
       "Occupation            BMI Category \n",
       "Lawyer                Normal Weight     1\n",
       "Software Engineer     Overweight        1\n",
       "                      Obese             1\n",
       "Manager               Overweight        1\n",
       "Teacher               Obese             1\n",
       "Doctor                Normal Weight     2\n",
       "Lawyer                Obese             2\n",
       "                      Overweight        2\n",
       "Software Engineer     Normal Weight     2\n",
       "Sales Representative  Obese             2\n",
       "Engineer              Overweight        3\n",
       "                      Normal Weight     4\n",
       "Doctor                Obese             4\n",
       "Scientist             Overweight        4\n",
       "Accountant            Normal Weight     5\n",
       "                      Overweight        6\n",
       "Teacher               Normal            6\n",
       "Nurse                 Normal Weight     7\n",
       "Accountant            Normal           26\n",
       "Salesperson           Overweight       32\n",
       "Teacher               Overweight       33\n",
       "Lawyer                Normal           42\n",
       "Engineer              Normal           56\n",
       "Doctor                Normal           65\n",
       "Nurse                 Overweight       66\n",
       "Name: BMI Category, dtype: int64"
      ]
     },
     "execution_count": 19,
     "metadata": {},
     "output_type": "execute_result"
    }
   ],
   "source": [
    "occ_bmi = data.groupby('Occupation')['BMI Category'].value_counts()\n",
    "\n",
    "occ_bmi.sort_values()"
   ]
  },
  {
   "cell_type": "code",
   "execution_count": 20,
   "metadata": {
    "colab": {
     "base_uri": "https://localhost:8080/",
     "height": 411
    },
    "id": "8uQ9N_lrMK-V",
    "outputId": "c81beb96-9f83-4a37-8c91-61c0259dc226"
   },
   "outputs": [
    {
     "name": "stderr",
     "output_type": "stream",
     "text": [
      "C:\\Users\\MATEO\\AppData\\Local\\Temp\\ipykernel_976\\237343472.py:1: FutureWarning: Indexing with multiple keys (implicitly converted to a tuple of keys) will be deprecated, use a list instead.\n",
      "  occ_steps = data.groupby(['Occupation'])['Daily Steps', 'Physical Activity Level', 'Sleep Duration', 'Quality of Sleep'].mean()\n"
     ]
    },
    {
     "data": {
      "text/html": [
       "<div>\n",
       "<style scoped>\n",
       "    .dataframe tbody tr th:only-of-type {\n",
       "        vertical-align: middle;\n",
       "    }\n",
       "\n",
       "    .dataframe tbody tr th {\n",
       "        vertical-align: top;\n",
       "    }\n",
       "\n",
       "    .dataframe thead th {\n",
       "        text-align: right;\n",
       "    }\n",
       "</style>\n",
       "<table border=\"1\" class=\"dataframe\">\n",
       "  <thead>\n",
       "    <tr style=\"text-align: right;\">\n",
       "      <th></th>\n",
       "      <th>Daily Steps</th>\n",
       "      <th>Physical Activity Level</th>\n",
       "      <th>Sleep Duration</th>\n",
       "      <th>Quality of Sleep</th>\n",
       "    </tr>\n",
       "    <tr>\n",
       "      <th>Occupation</th>\n",
       "      <th></th>\n",
       "      <th></th>\n",
       "      <th></th>\n",
       "      <th></th>\n",
       "    </tr>\n",
       "  </thead>\n",
       "  <tbody>\n",
       "    <tr>\n",
       "      <th>Sales Representative</th>\n",
       "      <td>3000.000000</td>\n",
       "      <td>30.000000</td>\n",
       "      <td>5.900000</td>\n",
       "      <td>4.000000</td>\n",
       "    </tr>\n",
       "    <tr>\n",
       "      <th>Scientist</th>\n",
       "      <td>5350.000000</td>\n",
       "      <td>41.000000</td>\n",
       "      <td>6.000000</td>\n",
       "      <td>5.000000</td>\n",
       "    </tr>\n",
       "    <tr>\n",
       "      <th>Manager</th>\n",
       "      <td>5500.000000</td>\n",
       "      <td>55.000000</td>\n",
       "      <td>6.900000</td>\n",
       "      <td>7.000000</td>\n",
       "    </tr>\n",
       "    <tr>\n",
       "      <th>Software Engineer</th>\n",
       "      <td>5800.000000</td>\n",
       "      <td>48.000000</td>\n",
       "      <td>6.750000</td>\n",
       "      <td>6.500000</td>\n",
       "    </tr>\n",
       "    <tr>\n",
       "      <th>Teacher</th>\n",
       "      <td>5957.500000</td>\n",
       "      <td>45.625000</td>\n",
       "      <td>6.690000</td>\n",
       "      <td>6.975000</td>\n",
       "    </tr>\n",
       "    <tr>\n",
       "      <th>Engineer</th>\n",
       "      <td>5980.952381</td>\n",
       "      <td>51.857143</td>\n",
       "      <td>7.987302</td>\n",
       "      <td>8.412698</td>\n",
       "    </tr>\n",
       "    <tr>\n",
       "      <th>Salesperson</th>\n",
       "      <td>6000.000000</td>\n",
       "      <td>45.000000</td>\n",
       "      <td>6.403125</td>\n",
       "      <td>6.000000</td>\n",
       "    </tr>\n",
       "    <tr>\n",
       "      <th>Doctor</th>\n",
       "      <td>6808.450704</td>\n",
       "      <td>55.352113</td>\n",
       "      <td>6.970423</td>\n",
       "      <td>6.647887</td>\n",
       "    </tr>\n",
       "    <tr>\n",
       "      <th>Accountant</th>\n",
       "      <td>6881.081081</td>\n",
       "      <td>58.108108</td>\n",
       "      <td>7.113514</td>\n",
       "      <td>7.891892</td>\n",
       "    </tr>\n",
       "    <tr>\n",
       "      <th>Lawyer</th>\n",
       "      <td>7661.702128</td>\n",
       "      <td>70.425532</td>\n",
       "      <td>7.410638</td>\n",
       "      <td>7.893617</td>\n",
       "    </tr>\n",
       "    <tr>\n",
       "      <th>Nurse</th>\n",
       "      <td>8057.534247</td>\n",
       "      <td>78.589041</td>\n",
       "      <td>7.063014</td>\n",
       "      <td>7.369863</td>\n",
       "    </tr>\n",
       "  </tbody>\n",
       "</table>\n",
       "</div>"
      ],
      "text/plain": [
       "                      Daily Steps  Physical Activity Level  Sleep Duration  \\\n",
       "Occupation                                                                   \n",
       "Sales Representative  3000.000000                30.000000        5.900000   \n",
       "Scientist             5350.000000                41.000000        6.000000   \n",
       "Manager               5500.000000                55.000000        6.900000   \n",
       "Software Engineer     5800.000000                48.000000        6.750000   \n",
       "Teacher               5957.500000                45.625000        6.690000   \n",
       "Engineer              5980.952381                51.857143        7.987302   \n",
       "Salesperson           6000.000000                45.000000        6.403125   \n",
       "Doctor                6808.450704                55.352113        6.970423   \n",
       "Accountant            6881.081081                58.108108        7.113514   \n",
       "Lawyer                7661.702128                70.425532        7.410638   \n",
       "Nurse                 8057.534247                78.589041        7.063014   \n",
       "\n",
       "                      Quality of Sleep  \n",
       "Occupation                              \n",
       "Sales Representative          4.000000  \n",
       "Scientist                     5.000000  \n",
       "Manager                       7.000000  \n",
       "Software Engineer             6.500000  \n",
       "Teacher                       6.975000  \n",
       "Engineer                      8.412698  \n",
       "Salesperson                   6.000000  \n",
       "Doctor                        6.647887  \n",
       "Accountant                    7.891892  \n",
       "Lawyer                        7.893617  \n",
       "Nurse                         7.369863  "
      ]
     },
     "execution_count": 20,
     "metadata": {},
     "output_type": "execute_result"
    }
   ],
   "source": [
    "occ_steps = data.groupby(['Occupation'])['Daily Steps', 'Physical Activity Level', 'Sleep Duration', 'Quality of Sleep'].mean()\n",
    "occ_steps.sort_values(by='Daily Steps')"
   ]
  },
  {
   "cell_type": "code",
   "execution_count": null,
   "metadata": {
    "id": "lg9k4PDnjjhW"
   },
   "outputs": [],
   "source": []
  }
 ],
 "metadata": {
  "colab": {
   "provenance": []
  },
  "kernelspec": {
   "display_name": "Python 3 (ipykernel)",
   "language": "python",
   "name": "python3"
  },
  "language_info": {
   "codemirror_mode": {
    "name": "ipython",
    "version": 3
   },
   "file_extension": ".py",
   "mimetype": "text/x-python",
   "name": "python",
   "nbconvert_exporter": "python",
   "pygments_lexer": "ipython3",
   "version": "3.11.4"
  }
 },
 "nbformat": 4,
 "nbformat_minor": 1
}
