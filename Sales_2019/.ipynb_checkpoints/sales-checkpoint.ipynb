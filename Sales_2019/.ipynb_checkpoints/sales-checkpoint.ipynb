{
 "cells": [
  {
   "cell_type": "code",
   "execution_count": 1,
   "metadata": {},
   "outputs": [
    {
     "name": "stderr",
     "output_type": "stream",
     "text": [
      "C:\\Users\\MATEO\\AppData\\Local\\Temp\\ipykernel_10768\\2989828303.py:9: MatplotlibDeprecationWarning: The seaborn styles shipped by Matplotlib are deprecated since 3.6, as they no longer correspond to the styles shipped by seaborn. However, they will remain available as 'seaborn-v0_8-<style>'. Alternatively, directly use the seaborn API instead.\n",
      "  plt.style.use('seaborn')\n"
     ]
    }
   ],
   "source": [
    "#importar la librerias\n",
    "import pandas as pd\n",
    "import os\n",
    "import matplotlib.pyplot as plt\n",
    "import re\n",
    "import datetime as dt\n",
    "import seaborn as sns\n",
    "\n",
    "plt.style.use('seaborn')\n",
    "sns.set_style('darkgrid')\n"
   ]
  },
  {
   "cell_type": "code",
   "execution_count": 2,
   "metadata": {},
   "outputs": [
    {
     "data": {
      "text/plain": [
       "['Sales_April_2019.csv',\n",
       " 'Sales_August_2019.csv',\n",
       " 'Sales_December_2019.csv',\n",
       " 'Sales_February_2019.csv',\n",
       " 'Sales_January_2019.csv',\n",
       " 'Sales_July_2019.csv',\n",
       " 'Sales_June_2019.csv',\n",
       " 'Sales_March_2019.csv',\n",
       " 'Sales_May_2019.csv',\n",
       " 'Sales_November_2019.csv',\n",
       " 'Sales_October_2019.csv',\n",
       " 'Sales_September_2019.csv']"
      ]
     },
     "execution_count": 2,
     "metadata": {},
     "output_type": "execute_result"
    }
   ],
   "source": [
    "os.listdir('files')"
   ]
  },
  {
   "cell_type": "code",
   "execution_count": 3,
   "metadata": {},
   "outputs": [],
   "source": [
    "#leactura de csv de pandas\n",
    "df=pd.DataFrame()"
   ]
  },
  {
   "cell_type": "code",
   "execution_count": 4,
   "metadata": {},
   "outputs": [],
   "source": [
    "files=os.listdir('files')\n",
    "for x in files:\n",
    "    file=pd.read_csv('files/'+x)\n",
    "    df=pd.concat([file,df])\n"
   ]
  },
  {
   "cell_type": "code",
   "execution_count": 5,
   "metadata": {},
   "outputs": [
    {
     "data": {
      "text/html": [
       "<div>\n",
       "<style scoped>\n",
       "    .dataframe tbody tr th:only-of-type {\n",
       "        vertical-align: middle;\n",
       "    }\n",
       "\n",
       "    .dataframe tbody tr th {\n",
       "        vertical-align: top;\n",
       "    }\n",
       "\n",
       "    .dataframe thead th {\n",
       "        text-align: right;\n",
       "    }\n",
       "</style>\n",
       "<table border=\"1\" class=\"dataframe\">\n",
       "  <thead>\n",
       "    <tr style=\"text-align: right;\">\n",
       "      <th></th>\n",
       "      <th>Order ID</th>\n",
       "      <th>Product</th>\n",
       "      <th>Quantity Ordered</th>\n",
       "      <th>Price Each</th>\n",
       "      <th>Order Date</th>\n",
       "      <th>Purchase Address</th>\n",
       "    </tr>\n",
       "  </thead>\n",
       "  <tbody>\n",
       "    <tr>\n",
       "      <th>0</th>\n",
       "      <td>248151</td>\n",
       "      <td>AA Batteries (4-pack)</td>\n",
       "      <td>4</td>\n",
       "      <td>3.84</td>\n",
       "      <td>09/17/19 14:44</td>\n",
       "      <td>380 North St, Los Angeles, CA 90001</td>\n",
       "    </tr>\n",
       "    <tr>\n",
       "      <th>1</th>\n",
       "      <td>248152</td>\n",
       "      <td>USB-C Charging Cable</td>\n",
       "      <td>2</td>\n",
       "      <td>11.95</td>\n",
       "      <td>09/29/19 10:19</td>\n",
       "      <td>511 8th St, Austin, TX 73301</td>\n",
       "    </tr>\n",
       "    <tr>\n",
       "      <th>2</th>\n",
       "      <td>248153</td>\n",
       "      <td>USB-C Charging Cable</td>\n",
       "      <td>1</td>\n",
       "      <td>11.95</td>\n",
       "      <td>09/16/19 17:48</td>\n",
       "      <td>151 Johnson St, Los Angeles, CA 90001</td>\n",
       "    </tr>\n",
       "    <tr>\n",
       "      <th>3</th>\n",
       "      <td>248154</td>\n",
       "      <td>27in FHD Monitor</td>\n",
       "      <td>1</td>\n",
       "      <td>149.99</td>\n",
       "      <td>09/27/19 07:52</td>\n",
       "      <td>355 Hickory St, Seattle, WA 98101</td>\n",
       "    </tr>\n",
       "    <tr>\n",
       "      <th>4</th>\n",
       "      <td>248155</td>\n",
       "      <td>USB-C Charging Cable</td>\n",
       "      <td>1</td>\n",
       "      <td>11.95</td>\n",
       "      <td>09/01/19 19:03</td>\n",
       "      <td>125 5th St, Atlanta, GA 30301</td>\n",
       "    </tr>\n",
       "  </tbody>\n",
       "</table>\n",
       "</div>"
      ],
      "text/plain": [
       "  Order ID                Product Quantity Ordered Price Each      Order Date  \\\n",
       "0   248151  AA Batteries (4-pack)                4       3.84  09/17/19 14:44   \n",
       "1   248152   USB-C Charging Cable                2      11.95  09/29/19 10:19   \n",
       "2   248153   USB-C Charging Cable                1      11.95  09/16/19 17:48   \n",
       "3   248154       27in FHD Monitor                1     149.99  09/27/19 07:52   \n",
       "4   248155   USB-C Charging Cable                1      11.95  09/01/19 19:03   \n",
       "\n",
       "                        Purchase Address  \n",
       "0    380 North St, Los Angeles, CA 90001  \n",
       "1           511 8th St, Austin, TX 73301  \n",
       "2  151 Johnson St, Los Angeles, CA 90001  \n",
       "3      355 Hickory St, Seattle, WA 98101  \n",
       "4          125 5th St, Atlanta, GA 30301  "
      ]
     },
     "execution_count": 5,
     "metadata": {},
     "output_type": "execute_result"
    }
   ],
   "source": [
    "df.head()"
   ]
  },
  {
   "cell_type": "code",
   "execution_count": 6,
   "metadata": {},
   "outputs": [
    {
     "name": "stdout",
     "output_type": "stream",
     "text": [
      "<class 'pandas.core.frame.DataFrame'>\n",
      "Int64Index: 186850 entries, 0 to 18382\n",
      "Data columns (total 6 columns):\n",
      " #   Column            Non-Null Count   Dtype \n",
      "---  ------            --------------   ----- \n",
      " 0   Order ID          186305 non-null  object\n",
      " 1   Product           186305 non-null  object\n",
      " 2   Quantity Ordered  186305 non-null  object\n",
      " 3   Price Each        186305 non-null  object\n",
      " 4   Order Date        186305 non-null  object\n",
      " 5   Purchase Address  186305 non-null  object\n",
      "dtypes: object(6)\n",
      "memory usage: 10.0+ MB\n"
     ]
    }
   ],
   "source": [
    "df.info()"
   ]
  },
  {
   "cell_type": "code",
   "execution_count": 7,
   "metadata": {},
   "outputs": [
    {
     "data": {
      "text/plain": [
       "Order ID            object\n",
       "Product             object\n",
       "Quantity Ordered    object\n",
       "Price Each          object\n",
       "Order Date          object\n",
       "Purchase Address    object\n",
       "dtype: object"
      ]
     },
     "execution_count": 7,
     "metadata": {},
     "output_type": "execute_result"
    }
   ],
   "source": [
    "df.dtypes"
   ]
  },
  {
   "cell_type": "code",
   "execution_count": 8,
   "metadata": {},
   "outputs": [
    {
     "data": {
      "text/plain": [
       "False    186305\n",
       "True        545\n",
       "Name: Order ID, dtype: int64"
      ]
     },
     "execution_count": 8,
     "metadata": {},
     "output_type": "execute_result"
    }
   ],
   "source": [
    "#conteo de valores nulos\n",
    "df['Order ID'].isnull().value_counts()"
   ]
  },
  {
   "cell_type": "code",
   "execution_count": 9,
   "metadata": {},
   "outputs": [],
   "source": [
    "df=df[df['Order ID'].notnull()]"
   ]
  },
  {
   "cell_type": "code",
   "execution_count": 10,
   "metadata": {},
   "outputs": [
    {
     "data": {
      "text/plain": [
       "Order ID  Product  Quantity Ordered  Price Each  Order Date  Purchase Address\n",
       "False     False    False             False       False       False               186305\n",
       "dtype: int64"
      ]
     },
     "execution_count": 10,
     "metadata": {},
     "output_type": "execute_result"
    }
   ],
   "source": [
    "df.isnull().value_counts()"
   ]
  },
  {
   "cell_type": "code",
   "execution_count": 11,
   "metadata": {},
   "outputs": [
    {
     "data": {
      "text/html": [
       "<div>\n",
       "<style scoped>\n",
       "    .dataframe tbody tr th:only-of-type {\n",
       "        vertical-align: middle;\n",
       "    }\n",
       "\n",
       "    .dataframe tbody tr th {\n",
       "        vertical-align: top;\n",
       "    }\n",
       "\n",
       "    .dataframe thead th {\n",
       "        text-align: right;\n",
       "    }\n",
       "</style>\n",
       "<table border=\"1\" class=\"dataframe\">\n",
       "  <thead>\n",
       "    <tr style=\"text-align: right;\">\n",
       "      <th></th>\n",
       "      <th>Order ID</th>\n",
       "      <th>Product</th>\n",
       "      <th>Quantity Ordered</th>\n",
       "      <th>Price Each</th>\n",
       "      <th>Order Date</th>\n",
       "      <th>Purchase Address</th>\n",
       "    </tr>\n",
       "  </thead>\n",
       "  <tbody>\n",
       "    <tr>\n",
       "      <th>0</th>\n",
       "      <td>248151</td>\n",
       "      <td>AA Batteries (4-pack)</td>\n",
       "      <td>4</td>\n",
       "      <td>3.84</td>\n",
       "      <td>09/17/19 14:44</td>\n",
       "      <td>380 North St, Los Angeles, CA 90001</td>\n",
       "    </tr>\n",
       "    <tr>\n",
       "      <th>1</th>\n",
       "      <td>248152</td>\n",
       "      <td>USB-C Charging Cable</td>\n",
       "      <td>2</td>\n",
       "      <td>11.95</td>\n",
       "      <td>09/29/19 10:19</td>\n",
       "      <td>511 8th St, Austin, TX 73301</td>\n",
       "    </tr>\n",
       "    <tr>\n",
       "      <th>2</th>\n",
       "      <td>248153</td>\n",
       "      <td>USB-C Charging Cable</td>\n",
       "      <td>1</td>\n",
       "      <td>11.95</td>\n",
       "      <td>09/16/19 17:48</td>\n",
       "      <td>151 Johnson St, Los Angeles, CA 90001</td>\n",
       "    </tr>\n",
       "    <tr>\n",
       "      <th>3</th>\n",
       "      <td>248154</td>\n",
       "      <td>27in FHD Monitor</td>\n",
       "      <td>1</td>\n",
       "      <td>149.99</td>\n",
       "      <td>09/27/19 07:52</td>\n",
       "      <td>355 Hickory St, Seattle, WA 98101</td>\n",
       "    </tr>\n",
       "    <tr>\n",
       "      <th>4</th>\n",
       "      <td>248155</td>\n",
       "      <td>USB-C Charging Cable</td>\n",
       "      <td>1</td>\n",
       "      <td>11.95</td>\n",
       "      <td>09/01/19 19:03</td>\n",
       "      <td>125 5th St, Atlanta, GA 30301</td>\n",
       "    </tr>\n",
       "  </tbody>\n",
       "</table>\n",
       "</div>"
      ],
      "text/plain": [
       "  Order ID                Product Quantity Ordered Price Each      Order Date  \\\n",
       "0   248151  AA Batteries (4-pack)                4       3.84  09/17/19 14:44   \n",
       "1   248152   USB-C Charging Cable                2      11.95  09/29/19 10:19   \n",
       "2   248153   USB-C Charging Cable                1      11.95  09/16/19 17:48   \n",
       "3   248154       27in FHD Monitor                1     149.99  09/27/19 07:52   \n",
       "4   248155   USB-C Charging Cable                1      11.95  09/01/19 19:03   \n",
       "\n",
       "                        Purchase Address  \n",
       "0    380 North St, Los Angeles, CA 90001  \n",
       "1           511 8th St, Austin, TX 73301  \n",
       "2  151 Johnson St, Los Angeles, CA 90001  \n",
       "3      355 Hickory St, Seattle, WA 98101  \n",
       "4          125 5th St, Atlanta, GA 30301  "
      ]
     },
     "execution_count": 11,
     "metadata": {},
     "output_type": "execute_result"
    }
   ],
   "source": [
    "#definir el tipo de cada variable\n",
    "df.head()"
   ]
  },
  {
   "cell_type": "code",
   "execution_count": 12,
   "metadata": {},
   "outputs": [],
   "source": [
    "df=df[df['Product']!='Product']"
   ]
  },
  {
   "cell_type": "code",
   "execution_count": 13,
   "metadata": {},
   "outputs": [],
   "source": [
    "df['Quantity Ordered']=df['Quantity Ordered'].astype('int64')\n",
    "df['Price Each']=df['Price Each'].astype('float')\n",
    "df['Order Date']=pd.to_datetime(df['Order Date'])"
   ]
  },
  {
   "cell_type": "code",
   "execution_count": 14,
   "metadata": {},
   "outputs": [
    {
     "name": "stdout",
     "output_type": "stream",
     "text": [
      "<class 'pandas.core.frame.DataFrame'>\n",
      "Int64Index: 185950 entries, 0 to 18382\n",
      "Data columns (total 6 columns):\n",
      " #   Column            Non-Null Count   Dtype         \n",
      "---  ------            --------------   -----         \n",
      " 0   Order ID          185950 non-null  object        \n",
      " 1   Product           185950 non-null  object        \n",
      " 2   Quantity Ordered  185950 non-null  int64         \n",
      " 3   Price Each        185950 non-null  float64       \n",
      " 4   Order Date        185950 non-null  datetime64[ns]\n",
      " 5   Purchase Address  185950 non-null  object        \n",
      "dtypes: datetime64[ns](1), float64(1), int64(1), object(3)\n",
      "memory usage: 9.9+ MB\n"
     ]
    }
   ],
   "source": [
    "df.info()"
   ]
  },
  {
   "cell_type": "markdown",
   "metadata": {},
   "source": [
    "# CUAL FUE EL MES CON LA VENTA MAS ALTA"
   ]
  },
  {
   "cell_type": "code",
   "execution_count": 15,
   "metadata": {},
   "outputs": [],
   "source": [
    "#extraer el mes\n",
    "df['Mes']=df['Order Date'].dt.month\\\n",
    "\n",
    "#realizar la multiplicacion de precio por cantidad\n",
    "df['Total_Ventas']=df['Quantity Ordered']*df['Price Each']"
   ]
  },
  {
   "cell_type": "code",
   "execution_count": 16,
   "metadata": {},
   "outputs": [
    {
     "name": "stderr",
     "output_type": "stream",
     "text": [
      "C:\\Users\\MATEO\\AppData\\Local\\Temp\\ipykernel_10768\\1613149603.py:2: FutureWarning: The default value of numeric_only in DataFrameGroupBy.sum is deprecated. In a future version, numeric_only will default to False. Either specify numeric_only or select only columns which should be valid for the function.\n",
      "  df_mes=df.groupby('Mes').sum()\n"
     ]
    }
   ],
   "source": [
    "#agrupaciones primero por mes\n",
    "df_mes=df.groupby('Mes').sum()\n",
    "\n",
    "#resetear el indice\n",
    "df_mes=df_mes.reset_index()\n"
   ]
  },
  {
   "cell_type": "code",
   "execution_count": 23,
   "metadata": {
    "scrolled": false
   },
   "outputs": [
    {
     "data": {
      "image/png": "[encoded data removed]",
      "text/plain": [
       "<Figure size 1600x700 with 2 Axes>"
      ]
     },
     "metadata": {},
     "output_type": "display_data"
    }
   ],
   "source": [
    "#subplot de graficos\n",
    "fig, axes=plt.subplots(1,2, figsize=(16,7))\n",
    "ax1=plt.subplot(1,2,1)\n",
    "ax2=plt.subplot(1,2,2)\n",
    "bars=ax1.bar(df_mes['Mes'], df_mes['Total_Ventas'])\n",
    "ax2.plot(df_fecha['Total_Ventas'])\n",
    "ax1.set_xticks(df_mes['Mes'])\n",
    "ax1.set_title('Ventas por Mes', size=18)\n",
    "ax2.set_title('Tendencia de Ventas Por Semana', size=18)\n",
    "\n",
    "ax1.set_xlabel('Meses')\n",
    "ax1.set_ylabel('Ventas en Millones')\n",
    "bars[11].set_color('#005f73')\n",
    "\n",
    "plt.show()\n"
   ]
  },
  {
   "cell_type": "code",
   "execution_count": 19,
   "metadata": {
    "scrolled": true
   },
   "outputs": [],
   "source": [
    "#df_mes"
   ]
  },
  {
   "cell_type": "code",
   "execution_count": 20,
   "metadata": {},
   "outputs": [
    {
     "name": "stderr",
     "output_type": "stream",
     "text": [
      "C:\\Users\\MATEO\\AppData\\Local\\Temp\\ipykernel_10768\\188879148.py:2: FutureWarning: The default value of numeric_only in DataFrameGroupBy.sum is deprecated. In a future version, numeric_only will default to False. Either specify numeric_only or select only columns which should be valid for the function.\n",
      "  df_fecha=df.groupby('Order Date').sum()\n"
     ]
    }
   ],
   "source": [
    "#agrupacion la voy haver por fecha\n",
    "df_fecha=df.groupby('Order Date').sum()"
   ]
  },
  {
   "cell_type": "code",
   "execution_count": 21,
   "metadata": {},
   "outputs": [],
   "source": [
    "df_fecha=df_fecha.resample('W').sum()\n",
    "#df_fecha"
   ]
  },
  {
   "cell_type": "code",
   "execution_count": 22,
   "metadata": {},
   "outputs": [
    {
     "data": {
      "text/html": [
       "<div>\n",
       "<style scoped>\n",
       "    .dataframe tbody tr th:only-of-type {\n",
       "        vertical-align: middle;\n",
       "    }\n",
       "\n",
       "    .dataframe tbody tr th {\n",
       "        vertical-align: top;\n",
       "    }\n",
       "\n",
       "    .dataframe thead th {\n",
       "        text-align: right;\n",
       "    }\n",
       "</style>\n",
       "<table border=\"1\" class=\"dataframe\">\n",
       "  <thead>\n",
       "    <tr style=\"text-align: right;\">\n",
       "      <th></th>\n",
       "      <th>Order ID</th>\n",
       "      <th>Product</th>\n",
       "      <th>Quantity Ordered</th>\n",
       "      <th>Price Each</th>\n",
       "      <th>Order Date</th>\n",
       "      <th>Purchase Address</th>\n",
       "      <th>Mes</th>\n",
       "      <th>Total_Ventas</th>\n",
       "    </tr>\n",
       "  </thead>\n",
       "  <tbody>\n",
       "    <tr>\n",
       "      <th>0</th>\n",
       "      <td>248151</td>\n",
       "      <td>AA Batteries (4-pack)</td>\n",
       "      <td>4</td>\n",
       "      <td>3.84</td>\n",
       "      <td>2019-09-17 14:44:00</td>\n",
       "      <td>380 North St, Los Angeles, CA 90001</td>\n",
       "      <td>9</td>\n",
       "      <td>15.36</td>\n",
       "    </tr>\n",
       "    <tr>\n",
       "      <th>1</th>\n",
       "      <td>248152</td>\n",
       "      <td>USB-C Charging Cable</td>\n",
       "      <td>2</td>\n",
       "      <td>11.95</td>\n",
       "      <td>2019-09-29 10:19:00</td>\n",
       "      <td>511 8th St, Austin, TX 73301</td>\n",
       "      <td>9</td>\n",
       "      <td>23.90</td>\n",
       "    </tr>\n",
       "    <tr>\n",
       "      <th>2</th>\n",
       "      <td>248153</td>\n",
       "      <td>USB-C Charging Cable</td>\n",
       "      <td>1</td>\n",
       "      <td>11.95</td>\n",
       "      <td>2019-09-16 17:48:00</td>\n",
       "      <td>151 Johnson St, Los Angeles, CA 90001</td>\n",
       "      <td>9</td>\n",
       "      <td>11.95</td>\n",
       "    </tr>\n",
       "    <tr>\n",
       "      <th>3</th>\n",
       "      <td>248154</td>\n",
       "      <td>27in FHD Monitor</td>\n",
       "      <td>1</td>\n",
       "      <td>149.99</td>\n",
       "      <td>2019-09-27 07:52:00</td>\n",
       "      <td>355 Hickory St, Seattle, WA 98101</td>\n",
       "      <td>9</td>\n",
       "      <td>149.99</td>\n",
       "    </tr>\n",
       "    <tr>\n",
       "      <th>4</th>\n",
       "      <td>248155</td>\n",
       "      <td>USB-C Charging Cable</td>\n",
       "      <td>1</td>\n",
       "      <td>11.95</td>\n",
       "      <td>2019-09-01 19:03:00</td>\n",
       "      <td>125 5th St, Atlanta, GA 30301</td>\n",
       "      <td>9</td>\n",
       "      <td>11.95</td>\n",
       "    </tr>\n",
       "  </tbody>\n",
       "</table>\n",
       "</div>"
      ],
      "text/plain": [
       "  Order ID                Product  Quantity Ordered  Price Each  \\\n",
       "0   248151  AA Batteries (4-pack)                 4        3.84   \n",
       "1   248152   USB-C Charging Cable                 2       11.95   \n",
       "2   248153   USB-C Charging Cable                 1       11.95   \n",
       "3   248154       27in FHD Monitor                 1      149.99   \n",
       "4   248155   USB-C Charging Cable                 1       11.95   \n",
       "\n",
       "           Order Date                       Purchase Address  Mes  \\\n",
       "0 2019-09-17 14:44:00    380 North St, Los Angeles, CA 90001    9   \n",
       "1 2019-09-29 10:19:00           511 8th St, Austin, TX 73301    9   \n",
       "2 2019-09-16 17:48:00  151 Johnson St, Los Angeles, CA 90001    9   \n",
       "3 2019-09-27 07:52:00      355 Hickory St, Seattle, WA 98101    9   \n",
       "4 2019-09-01 19:03:00          125 5th St, Atlanta, GA 30301    9   \n",
       "\n",
       "   Total_Ventas  \n",
       "0         15.36  \n",
       "1         23.90  \n",
       "2         11.95  \n",
       "3        149.99  \n",
       "4         11.95  "
      ]
     },
     "execution_count": 22,
     "metadata": {},
     "output_type": "execute_result"
    }
   ],
   "source": [
    "df.head()"
   ]
  },
  {
   "cell_type": "markdown",
   "metadata": {},
   "source": [
    "# CUAL ES LA CIUDAD CON MAYOR VENTA"
   ]
  },
  {
   "cell_type": "code",
   "execution_count": 24,
   "metadata": {},
   "outputs": [
    {
     "data": {
      "text/html": [
       "<div>\n",
       "<style scoped>\n",
       "    .dataframe tbody tr th:only-of-type {\n",
       "        vertical-align: middle;\n",
       "    }\n",
       "\n",
       "    .dataframe tbody tr th {\n",
       "        vertical-align: top;\n",
       "    }\n",
       "\n",
       "    .dataframe thead th {\n",
       "        text-align: right;\n",
       "    }\n",
       "</style>\n",
       "<table border=\"1\" class=\"dataframe\">\n",
       "  <thead>\n",
       "    <tr style=\"text-align: right;\">\n",
       "      <th></th>\n",
       "      <th>Order ID</th>\n",
       "      <th>Product</th>\n",
       "      <th>Quantity Ordered</th>\n",
       "      <th>Price Each</th>\n",
       "      <th>Order Date</th>\n",
       "      <th>Purchase Address</th>\n",
       "      <th>Mes</th>\n",
       "      <th>Total_Ventas</th>\n",
       "      <th>Ciudad</th>\n",
       "    </tr>\n",
       "  </thead>\n",
       "  <tbody>\n",
       "    <tr>\n",
       "      <th>0</th>\n",
       "      <td>248151</td>\n",
       "      <td>AA Batteries (4-pack)</td>\n",
       "      <td>4</td>\n",
       "      <td>3.84</td>\n",
       "      <td>2019-09-17 14:44:00</td>\n",
       "      <td>380 North St, Los Angeles, CA 90001</td>\n",
       "      <td>9</td>\n",
       "      <td>15.36</td>\n",
       "      <td>Los Angeles</td>\n",
       "    </tr>\n",
       "    <tr>\n",
       "      <th>1</th>\n",
       "      <td>248152</td>\n",
       "      <td>USB-C Charging Cable</td>\n",
       "      <td>2</td>\n",
       "      <td>11.95</td>\n",
       "      <td>2019-09-29 10:19:00</td>\n",
       "      <td>511 8th St, Austin, TX 73301</td>\n",
       "      <td>9</td>\n",
       "      <td>23.90</td>\n",
       "      <td>Austin</td>\n",
       "    </tr>\n",
       "    <tr>\n",
       "      <th>2</th>\n",
       "      <td>248153</td>\n",
       "      <td>USB-C Charging Cable</td>\n",
       "      <td>1</td>\n",
       "      <td>11.95</td>\n",
       "      <td>2019-09-16 17:48:00</td>\n",
       "      <td>151 Johnson St, Los Angeles, CA 90001</td>\n",
       "      <td>9</td>\n",
       "      <td>11.95</td>\n",
       "      <td>Los Angeles</td>\n",
       "    </tr>\n",
       "    <tr>\n",
       "      <th>3</th>\n",
       "      <td>248154</td>\n",
       "      <td>27in FHD Monitor</td>\n",
       "      <td>1</td>\n",
       "      <td>149.99</td>\n",
       "      <td>2019-09-27 07:52:00</td>\n",
       "      <td>355 Hickory St, Seattle, WA 98101</td>\n",
       "      <td>9</td>\n",
       "      <td>149.99</td>\n",
       "      <td>Seattle</td>\n",
       "    </tr>\n",
       "    <tr>\n",
       "      <th>4</th>\n",
       "      <td>248155</td>\n",
       "      <td>USB-C Charging Cable</td>\n",
       "      <td>1</td>\n",
       "      <td>11.95</td>\n",
       "      <td>2019-09-01 19:03:00</td>\n",
       "      <td>125 5th St, Atlanta, GA 30301</td>\n",
       "      <td>9</td>\n",
       "      <td>11.95</td>\n",
       "      <td>Atlanta</td>\n",
       "    </tr>\n",
       "  </tbody>\n",
       "</table>\n",
       "</div>"
      ],
      "text/plain": [
       "  Order ID                Product  Quantity Ordered  Price Each  \\\n",
       "0   248151  AA Batteries (4-pack)                 4        3.84   \n",
       "1   248152   USB-C Charging Cable                 2       11.95   \n",
       "2   248153   USB-C Charging Cable                 1       11.95   \n",
       "3   248154       27in FHD Monitor                 1      149.99   \n",
       "4   248155   USB-C Charging Cable                 1       11.95   \n",
       "\n",
       "           Order Date                       Purchase Address  Mes  \\\n",
       "0 2019-09-17 14:44:00    380 North St, Los Angeles, CA 90001    9   \n",
       "1 2019-09-29 10:19:00           511 8th St, Austin, TX 73301    9   \n",
       "2 2019-09-16 17:48:00  151 Johnson St, Los Angeles, CA 90001    9   \n",
       "3 2019-09-27 07:52:00      355 Hickory St, Seattle, WA 98101    9   \n",
       "4 2019-09-01 19:03:00          125 5th St, Atlanta, GA 30301    9   \n",
       "\n",
       "   Total_Ventas        Ciudad  \n",
       "0         15.36   Los Angeles  \n",
       "1         23.90        Austin  \n",
       "2         11.95   Los Angeles  \n",
       "3        149.99       Seattle  \n",
       "4         11.95       Atlanta  "
      ]
     },
     "execution_count": 24,
     "metadata": {},
     "output_type": "execute_result"
    }
   ],
   "source": [
    "df['Ciudad']=df['Purchase Address'].apply(lambda x: x.split(',')[1])\n",
    "df.head()"
   ]
  },
  {
   "cell_type": "code",
   "execution_count": 25,
   "metadata": {},
   "outputs": [
    {
     "name": "stderr",
     "output_type": "stream",
     "text": [
      "C:\\Users\\MATEO\\AppData\\Local\\Temp\\ipykernel_10768\\3634117256.py:2: FutureWarning: The default value of numeric_only in DataFrameGroupBy.sum is deprecated. In a future version, numeric_only will default to False. Either specify numeric_only or select only columns which should be valid for the function.\n",
      "  df_ciudad=df.groupby('Ciudad').sum()\n"
     ]
    }
   ],
   "source": [
    "#grafica para ver la ciudad\n",
    "df_ciudad=df.groupby('Ciudad').sum()\n",
    "\n",
    "df_ciudad=df_ciudad.reset_index()\n"
   ]
  },
  {
   "cell_type": "code",
   "execution_count": 26,
   "metadata": {},
   "outputs": [
    {
     "data": {
      "image/png": "[encoded data removed]",
      "text/plain": [
       "<Figure size 800x550 with 1 Axes>"
      ]
     },
     "metadata": {},
     "output_type": "display_data"
    }
   ],
   "source": [
    "bars=plt.bar(df_ciudad['Ciudad'], df_ciudad['Total_Ventas'])\n",
    "plt.xticks(rotation=90)\n",
    "bars[7].set_color('r')\n",
    "plt.show()"
   ]
  },
  {
   "cell_type": "code",
   "execution_count": null,
   "metadata": {},
   "outputs": [],
   "source": []
  },
  {
   "cell_type": "markdown",
   "metadata": {},
   "source": [
    "# CUAL ES LA HORA A QUE MAS SE VENDEN PRODUCTOS"
   ]
  },
  {
   "cell_type": "code",
   "execution_count": 27,
   "metadata": {},
   "outputs": [
    {
     "data": {
      "text/html": [
       "<div>\n",
       "<style scoped>\n",
       "    .dataframe tbody tr th:only-of-type {\n",
       "        vertical-align: middle;\n",
       "    }\n",
       "\n",
       "    .dataframe tbody tr th {\n",
       "        vertical-align: top;\n",
       "    }\n",
       "\n",
       "    .dataframe thead th {\n",
       "        text-align: right;\n",
       "    }\n",
       "</style>\n",
       "<table border=\"1\" class=\"dataframe\">\n",
       "  <thead>\n",
       "    <tr style=\"text-align: right;\">\n",
       "      <th></th>\n",
       "      <th>Order ID</th>\n",
       "      <th>Product</th>\n",
       "      <th>Quantity Ordered</th>\n",
       "      <th>Price Each</th>\n",
       "      <th>Order Date</th>\n",
       "      <th>Purchase Address</th>\n",
       "      <th>Mes</th>\n",
       "      <th>Total_Ventas</th>\n",
       "      <th>Ciudad</th>\n",
       "    </tr>\n",
       "  </thead>\n",
       "  <tbody>\n",
       "    <tr>\n",
       "      <th>0</th>\n",
       "      <td>248151</td>\n",
       "      <td>AA Batteries (4-pack)</td>\n",
       "      <td>4</td>\n",
       "      <td>3.84</td>\n",
       "      <td>2019-09-17 14:44:00</td>\n",
       "      <td>380 North St, Los Angeles, CA 90001</td>\n",
       "      <td>9</td>\n",
       "      <td>15.36</td>\n",
       "      <td>Los Angeles</td>\n",
       "    </tr>\n",
       "    <tr>\n",
       "      <th>1</th>\n",
       "      <td>248152</td>\n",
       "      <td>USB-C Charging Cable</td>\n",
       "      <td>2</td>\n",
       "      <td>11.95</td>\n",
       "      <td>2019-09-29 10:19:00</td>\n",
       "      <td>511 8th St, Austin, TX 73301</td>\n",
       "      <td>9</td>\n",
       "      <td>23.90</td>\n",
       "      <td>Austin</td>\n",
       "    </tr>\n",
       "    <tr>\n",
       "      <th>2</th>\n",
       "      <td>248153</td>\n",
       "      <td>USB-C Charging Cable</td>\n",
       "      <td>1</td>\n",
       "      <td>11.95</td>\n",
       "      <td>2019-09-16 17:48:00</td>\n",
       "      <td>151 Johnson St, Los Angeles, CA 90001</td>\n",
       "      <td>9</td>\n",
       "      <td>11.95</td>\n",
       "      <td>Los Angeles</td>\n",
       "    </tr>\n",
       "    <tr>\n",
       "      <th>3</th>\n",
       "      <td>248154</td>\n",
       "      <td>27in FHD Monitor</td>\n",
       "      <td>1</td>\n",
       "      <td>149.99</td>\n",
       "      <td>2019-09-27 07:52:00</td>\n",
       "      <td>355 Hickory St, Seattle, WA 98101</td>\n",
       "      <td>9</td>\n",
       "      <td>149.99</td>\n",
       "      <td>Seattle</td>\n",
       "    </tr>\n",
       "    <tr>\n",
       "      <th>4</th>\n",
       "      <td>248155</td>\n",
       "      <td>USB-C Charging Cable</td>\n",
       "      <td>1</td>\n",
       "      <td>11.95</td>\n",
       "      <td>2019-09-01 19:03:00</td>\n",
       "      <td>125 5th St, Atlanta, GA 30301</td>\n",
       "      <td>9</td>\n",
       "      <td>11.95</td>\n",
       "      <td>Atlanta</td>\n",
       "    </tr>\n",
       "  </tbody>\n",
       "</table>\n",
       "</div>"
      ],
      "text/plain": [
       "  Order ID                Product  Quantity Ordered  Price Each  \\\n",
       "0   248151  AA Batteries (4-pack)                 4        3.84   \n",
       "1   248152   USB-C Charging Cable                 2       11.95   \n",
       "2   248153   USB-C Charging Cable                 1       11.95   \n",
       "3   248154       27in FHD Monitor                 1      149.99   \n",
       "4   248155   USB-C Charging Cable                 1       11.95   \n",
       "\n",
       "           Order Date                       Purchase Address  Mes  \\\n",
       "0 2019-09-17 14:44:00    380 North St, Los Angeles, CA 90001    9   \n",
       "1 2019-09-29 10:19:00           511 8th St, Austin, TX 73301    9   \n",
       "2 2019-09-16 17:48:00  151 Johnson St, Los Angeles, CA 90001    9   \n",
       "3 2019-09-27 07:52:00      355 Hickory St, Seattle, WA 98101    9   \n",
       "4 2019-09-01 19:03:00          125 5th St, Atlanta, GA 30301    9   \n",
       "\n",
       "   Total_Ventas        Ciudad  \n",
       "0         15.36   Los Angeles  \n",
       "1         23.90        Austin  \n",
       "2         11.95   Los Angeles  \n",
       "3        149.99       Seattle  \n",
       "4         11.95       Atlanta  "
      ]
     },
     "execution_count": 27,
     "metadata": {},
     "output_type": "execute_result"
    }
   ],
   "source": [
    "df.head()"
   ]
  },
  {
   "cell_type": "code",
   "execution_count": 28,
   "metadata": {},
   "outputs": [
    {
     "data": {
      "text/html": [
       "<div>\n",
       "<style scoped>\n",
       "    .dataframe tbody tr th:only-of-type {\n",
       "        vertical-align: middle;\n",
       "    }\n",
       "\n",
       "    .dataframe tbody tr th {\n",
       "        vertical-align: top;\n",
       "    }\n",
       "\n",
       "    .dataframe thead th {\n",
       "        text-align: right;\n",
       "    }\n",
       "</style>\n",
       "<table border=\"1\" class=\"dataframe\">\n",
       "  <thead>\n",
       "    <tr style=\"text-align: right;\">\n",
       "      <th></th>\n",
       "      <th>Order ID</th>\n",
       "      <th>Product</th>\n",
       "      <th>Quantity Ordered</th>\n",
       "      <th>Price Each</th>\n",
       "      <th>Order Date</th>\n",
       "      <th>Purchase Address</th>\n",
       "      <th>Mes</th>\n",
       "      <th>Total_Ventas</th>\n",
       "      <th>Ciudad</th>\n",
       "      <th>Hora</th>\n",
       "    </tr>\n",
       "  </thead>\n",
       "  <tbody>\n",
       "    <tr>\n",
       "      <th>0</th>\n",
       "      <td>248151</td>\n",
       "      <td>AA Batteries (4-pack)</td>\n",
       "      <td>4</td>\n",
       "      <td>3.84</td>\n",
       "      <td>2019-09-17 14:44:00</td>\n",
       "      <td>380 North St, Los Angeles, CA 90001</td>\n",
       "      <td>9</td>\n",
       "      <td>15.36</td>\n",
       "      <td>Los Angeles</td>\n",
       "      <td>14</td>\n",
       "    </tr>\n",
       "    <tr>\n",
       "      <th>1</th>\n",
       "      <td>248152</td>\n",
       "      <td>USB-C Charging Cable</td>\n",
       "      <td>2</td>\n",
       "      <td>11.95</td>\n",
       "      <td>2019-09-29 10:19:00</td>\n",
       "      <td>511 8th St, Austin, TX 73301</td>\n",
       "      <td>9</td>\n",
       "      <td>23.90</td>\n",
       "      <td>Austin</td>\n",
       "      <td>10</td>\n",
       "    </tr>\n",
       "    <tr>\n",
       "      <th>2</th>\n",
       "      <td>248153</td>\n",
       "      <td>USB-C Charging Cable</td>\n",
       "      <td>1</td>\n",
       "      <td>11.95</td>\n",
       "      <td>2019-09-16 17:48:00</td>\n",
       "      <td>151 Johnson St, Los Angeles, CA 90001</td>\n",
       "      <td>9</td>\n",
       "      <td>11.95</td>\n",
       "      <td>Los Angeles</td>\n",
       "      <td>17</td>\n",
       "    </tr>\n",
       "    <tr>\n",
       "      <th>3</th>\n",
       "      <td>248154</td>\n",
       "      <td>27in FHD Monitor</td>\n",
       "      <td>1</td>\n",
       "      <td>149.99</td>\n",
       "      <td>2019-09-27 07:52:00</td>\n",
       "      <td>355 Hickory St, Seattle, WA 98101</td>\n",
       "      <td>9</td>\n",
       "      <td>149.99</td>\n",
       "      <td>Seattle</td>\n",
       "      <td>7</td>\n",
       "    </tr>\n",
       "    <tr>\n",
       "      <th>4</th>\n",
       "      <td>248155</td>\n",
       "      <td>USB-C Charging Cable</td>\n",
       "      <td>1</td>\n",
       "      <td>11.95</td>\n",
       "      <td>2019-09-01 19:03:00</td>\n",
       "      <td>125 5th St, Atlanta, GA 30301</td>\n",
       "      <td>9</td>\n",
       "      <td>11.95</td>\n",
       "      <td>Atlanta</td>\n",
       "      <td>19</td>\n",
       "    </tr>\n",
       "  </tbody>\n",
       "</table>\n",
       "</div>"
      ],
      "text/plain": [
       "  Order ID                Product  Quantity Ordered  Price Each  \\\n",
       "0   248151  AA Batteries (4-pack)                 4        3.84   \n",
       "1   248152   USB-C Charging Cable                 2       11.95   \n",
       "2   248153   USB-C Charging Cable                 1       11.95   \n",
       "3   248154       27in FHD Monitor                 1      149.99   \n",
       "4   248155   USB-C Charging Cable                 1       11.95   \n",
       "\n",
       "           Order Date                       Purchase Address  Mes  \\\n",
       "0 2019-09-17 14:44:00    380 North St, Los Angeles, CA 90001    9   \n",
       "1 2019-09-29 10:19:00           511 8th St, Austin, TX 73301    9   \n",
       "2 2019-09-16 17:48:00  151 Johnson St, Los Angeles, CA 90001    9   \n",
       "3 2019-09-27 07:52:00      355 Hickory St, Seattle, WA 98101    9   \n",
       "4 2019-09-01 19:03:00          125 5th St, Atlanta, GA 30301    9   \n",
       "\n",
       "   Total_Ventas        Ciudad  Hora  \n",
       "0         15.36   Los Angeles    14  \n",
       "1         23.90        Austin    10  \n",
       "2         11.95   Los Angeles    17  \n",
       "3        149.99       Seattle     7  \n",
       "4         11.95       Atlanta    19  "
      ]
     },
     "execution_count": 28,
     "metadata": {},
     "output_type": "execute_result"
    }
   ],
   "source": [
    "df['Hora']=df['Order Date'].apply(lambda x: x.hour)\n",
    "df.head()"
   ]
  },
  {
   "cell_type": "code",
   "execution_count": 29,
   "metadata": {},
   "outputs": [
    {
     "name": "stderr",
     "output_type": "stream",
     "text": [
      "C:\\Users\\MATEO\\AppData\\Local\\Temp\\ipykernel_10768\\774452637.py:2: FutureWarning: The default value of numeric_only in DataFrameGroupBy.sum is deprecated. In a future version, numeric_only will default to False. Either specify numeric_only or select only columns which should be valid for the function.\n",
      "  df_hour=df.groupby('Hora').sum()\n"
     ]
    }
   ],
   "source": [
    "#agrupacion por las horas \n",
    "df_hour=df.groupby('Hora').sum()\n",
    "df_hour=df_hour.reset_index()"
   ]
  },
  {
   "cell_type": "code",
   "execution_count": 30,
   "metadata": {},
   "outputs": [
    {
     "data": {
      "image/png": "[encoded data removed]",
      "text/plain": [
       "<Figure size 800x550 with 1 Axes>"
      ]
     },
     "metadata": {},
     "output_type": "display_data"
    }
   ],
   "source": [
    "#grafica de lineas\n",
    "plt.plot(df_hour['Total_Ventas'], marker='o')\n",
    "plt.xticks(df_hour['Hora'])\n",
    "plt.title('Ventas por hora del día')\n",
    "\n",
    "plt.show()"
   ]
  }
 ],
 "metadata": {
  "kernelspec": {
   "display_name": "Python 3 (ipykernel)",
   "language": "python",
   "name": "python3"
  },
  "language_info": {
   "codemirror_mode": {
    "name": "ipython",
    "version": 3
   },
   "file_extension": ".py",
   "mimetype": "text/x-python",
   "name": "python",
   "nbconvert_exporter": "python",
   "pygments_lexer": "ipython3",
   "version": "3.11.4"
  }
 },
 "nbformat": 4,
 "nbformat_minor": 4
}
